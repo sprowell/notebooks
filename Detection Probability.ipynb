{
 "cells": [
  {
   "cell_type": "markdown",
   "metadata": {},
   "source": [
    "# Probability of Detection of Malcode Bytes in a Page"
   ]
  },
  {
   "cell_type": "markdown",
   "metadata": {},
   "source": [
    "Suppose we have an $n$ element array, and there are $k$ _maliciously altered_ bytes.  How likely are we to detect one of these bytes if we sample $s$ times?\n",
    "\n",
    "If we are sampling with replacement, then we use the Binomial distribution.  If we are sampling _without_ replacement, then we use the hypergeometric distribution.\n",
    "\n",
    "Let's assume we are sampling _with_ replacement (IID), since it is just simpler to do.  Each sample is a Bernoulli trial (either we hit the malicious byte range or we do not).  Let's call detecting (sampling) a malicious byte a _failure_ and missing it a _success_.  The probability of a failure (detection) is $k/n$ and the probability of a success is $(n-k)/n$.\n",
    "\n",
    "You see $f$ failures among $s$ trials with the following probability.\n",
    "$$ P = {s\\choose f} \\left( \\frac{k}{n} \\right)^f \\left( \\frac{n-k}{n} \\right)^{s-f} $$\n",
    "\n",
    "The probability of observing _no_ failures and thus _not detecting_ the malcode is thus given by the following.\n",
    "$$ \\begin{array}{rl}\n",
    "  P & = {s\\choose 0} \\left( \\frac{k}{n} \\right)^0 \\left( \\frac{n-k}{n} \\right)^{s-0} \\\\\n",
    "    & = \\left( \\frac{n-k}{n} \\right)^s\n",
    "\\end{array} $$\n",
    "\n",
    "(This isn't surprising and could be derived directly; it is just worth pointing out.)\n",
    "\n",
    "We can now compute the probability of detection of one or more of the malcode bytes as $1-P$.  The following code computes this value."
   ]
  },
  {
   "cell_type": "code",
   "execution_count": 1,
   "metadata": {},
   "outputs": [],
   "source": [
    "import math\n",
    "\n",
    "class Detector(object):\n",
    "    def __init__(self, n, k):\n",
    "        '''Create a new detector instance.  Page size is n, size of malcode is k.'''\n",
    "        self.n = n\n",
    "        self.k = k\n",
    "        \n",
    "    def __call__(self, s):\n",
    "        '''Compute the probability of detecting the malcode given s samples.'''\n",
    "        prob = math.pow((self.n-self.k)/self.n, s)\n",
    "        return 1.0 - prob"
   ]
  },
  {
   "cell_type": "markdown",
   "metadata": {},
   "source": [
    "Now we can use it to check a range of values.  Suppose we want to detect a 100-byte malcode sequence in a single 4KB page (4,096 bytes).  Because we are sampling with replacement, the value approaches 1.0 asymptotically.  (If we used the hypergeometric distribution for sampling without replacement, we would eventually reach 1.0 because we would sample every byte.)"
   ]
  },
  {
   "cell_type": "code",
   "execution_count": 2,
   "metadata": {},
   "outputs": [
    {
     "name": "stdout",
     "output_type": "stream",
     "text": [
      "For 10 trials, probability of detection is 0.2189922995883098\n",
      "For 20 trials, probability of detection is 0.39002697189764357\n",
      "For 30 trials, probability of detection is 0.5236063680086234\n",
      "For 40 trials, probability of detection is 0.6279329049876419\n",
      "For 50 trials, probability of detection is 0.7094127337255405\n",
      "For 60 trials, probability of detection is 0.7730491073980648\n",
      "For 70 trials, probability of detection is 0.8227496052625821\n",
      "For 80 trials, probability of detection is 0.8615660768090649\n",
      "For 90 trials, probability of detection is 0.8918820399896793\n",
      "For 100 trials, probability of detection is 0.9155590406791363\n"
     ]
    }
   ],
   "source": [
    "detect = Detector(4096, 100)\n",
    "for trials in range(10,110,10):\n",
    "    print(f\"For {trials} trials, probability of detection is {detect(trials)}\")"
   ]
  },
  {
   "cell_type": "markdown",
   "metadata": {},
   "source": []
  }
 ],
 "metadata": {
  "kernelspec": {
   "display_name": "Python 3",
   "language": "python",
   "name": "python3"
  },
  "language_info": {
   "codemirror_mode": {
    "name": "ipython",
    "version": 3
   },
   "file_extension": ".py",
   "mimetype": "text/x-python",
   "name": "python",
   "nbconvert_exporter": "python",
   "pygments_lexer": "ipython3",
   "version": "3.8.3"
  }
 },
 "nbformat": 4,
 "nbformat_minor": 4
}
