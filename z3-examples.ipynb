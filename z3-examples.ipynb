{
 "cells": [
  {
   "cell_type": "markdown",
   "metadata": {},
   "source": [
    "# Some notes on working with Z3"
   ]
  },
  {
   "cell_type": "markdown",
   "metadata": {},
   "source": [
    "First, be careful.  There is a z3 package that is not the solver.  When you perform an installation, you need to make sure to install the `z3-solver` package.\n",
    "\n",
    "```$ pip3 install z3-solver```\n",
    "\n",
    "If you are running in a conda environment, you might want to use conda to install Z3 instead.  As usual pip will be fast and conda will likely take a long time.\n",
    "\n",
    "```$ conda install -c danielbok z3-solver```\n",
    "\n",
    "You should be able to interact with Z3 at the prompt, and you can use Z3 from inside Python scripts by including the package in the usual way."
   ]
  },
  {
   "cell_type": "code",
   "execution_count": 1,
   "metadata": {},
   "outputs": [
    {
     "name": "stdout",
     "output_type": "stream",
     "text": [
      "Requirement already satisfied: z3-solver in /home/sprowell/snap/jupyter/common/lib/python3.7/site-packages (4.8.16.0)\r\n"
     ]
    }
   ],
   "source": [
    "# Install the Z3 package in the current Jupyter kernel if it is not already.\n",
    "import sys\n",
    "!{sys.executable} -m pip install z3-solver"
   ]
  },
  {
   "cell_type": "code",
   "execution_count": 2,
   "metadata": {},
   "outputs": [],
   "source": [
    "from z3 import *"
   ]
  },
  {
   "cell_type": "markdown",
   "metadata": {},
   "source": [
    "## Tutorials\n",
    "\n",
    "You can read about how to use Z3 online.  A nice, quick introduction, and the one I would suggest, can be found [here](https://ericpony.github.io/z3py-tutorial/guide-examples.htm).  A longer detailed tutorial can be found [here](https://citeseerx.ist.psu.edu/viewdoc/download?doi=10.1.1.225.8231&rep=rep1&type=pdf).  Even if you aren't doing code reverse engineering, Z3 is an incredibly useful tool.\n",
    "\n",
    "Want to watch a one-hour video about Z3?  [Here you go](https://www.youtube.com/watch?v=TgAVIqraCHo)."
   ]
  },
  {
   "cell_type": "markdown",
   "metadata": {},
   "source": [
    "## Variables\n",
    "\n",
    "Create variables using the various type constructors.  For what you are doing, you will need `BitVec`.  Be aware that you may also need to create *values*, and that 5 is not the same as a 64-bit 5.  For values you can use `BitVecVal`.  Note that there are plural versions of the variable constructors that can construct multiple variables at once.  An example is below."
   ]
  },
  {
   "cell_type": "code",
   "execution_count": 4,
   "metadata": {},
   "outputs": [],
   "source": [
    "rax, rbx, rcx, rdx, rsi, rdi, rbp = BitVecs('rax rbx rcx rdx rsi rdi rbp', 64)"
   ]
  },
  {
   "cell_type": "markdown",
   "metadata": {},
   "source": [
    "If you want to use values, you need to create bit vectors.  For example, to create a 64-bit twos-complement version of -5 as a bit vector, use `BitVecVal(-5,64)`."
   ]
  },
  {
   "cell_type": "code",
   "execution_count": 5,
   "metadata": {},
   "outputs": [
    {
     "name": "stdout",
     "output_type": "stream",
     "text": [
      "#xfffffffffffffffb\n"
     ]
    }
   ],
   "source": [
    "m5 = BitVecVal(-5,64)\n",
    "print(m5.sexpr())"
   ]
  },
  {
   "cell_type": "markdown",
   "metadata": {},
   "source": [
    "As noted in the short tutorial linked above, \"In Z3Py, the operators <, <=, >, >=, /, % and >> correspond to the signed versions. The corresponding unsigned operators are ULT, ULE, UGT, UGE, UDiv, URem and LShR.\"  Be careful which version you use!"
   ]
  },
  {
   "cell_type": "markdown",
   "metadata": {},
   "source": [
    "## Solve\n",
    "\n",
    "Z3 is incredibly useful because it understands twos-complement arithmetic."
   ]
  },
  {
   "cell_type": "code",
   "execution_count": 6,
   "metadata": {},
   "outputs": [
    {
     "name": "stdout",
     "output_type": "stream",
     "text": [
      "[x = 32768]\n"
     ]
    }
   ],
   "source": [
    "x = BitVec('x',16)\n",
    "solve(x == -x, x != 0)"
   ]
  },
  {
   "cell_type": "markdown",
   "metadata": {},
   "source": [
    "## Assembly to Z3\n",
    "\n",
    "Suppose I have the following assembly listing.\n",
    "\n",
    "```asm\n",
    "    mov rax, rdi\n",
    "    lea rbx, [rax*2+20]\n",
    "    add rax, rbx\n",
    "    asl rax, 1\n",
    "    cmp eax, 0x1000\n",
    "```\n",
    "\n",
    "How can we represent what it happenning?  Well, first, we can rewrite this in SSA form.\n",
    "\n",
    "```asm\n",
    "    mov rax_1, rdi_0\n",
    "    lea rbx_1, [rax_1*2+20]\n",
    "    add rax_2, rbx_1\n",
    "    asl rax_3, 1\n",
    "    cmp eax_3, 0x1000\n",
    "```\n",
    "\n",
    "Let's create the various variables we will need."
   ]
  },
  {
   "cell_type": "code",
   "execution_count": 7,
   "metadata": {},
   "outputs": [],
   "source": [
    "rax_1, rax_2, rax_3 = BitVecs('rax_1 rax_2 rax_3', 64)\n",
    "rdi_0 = BitVec('rdi_0', 64)\n",
    "rbx_1 = BitVec('rbx_1', 64)"
   ]
  },
  {
   "cell_type": "markdown",
   "metadata": {},
   "source": [
    "Now we can represent the semantics of each line in Z3."
   ]
  },
  {
   "cell_type": "code",
   "execution_count": 9,
   "metadata": {},
   "outputs": [],
   "source": [
    "s = Solver()\n",
    "s.add(rax_1 == rdi_0)               # mov rax_1, rdi_0\n",
    "s.add(rbx_1 == rax_1 * 2 + 20)      # lea rbx_1, [rax_1*2+20]\n",
    "s.add(rax_2 == rax_1 + rbx_1)       # add rax_2, rbx_1\n",
    "s.add(rax_3 == rax_2 << 1)          # asl rax_3, 1\n",
    "mask32 = BitVecVal(0xffffffff, 64)\n",
    "s.add(rax_3 & mask32 == 0x1000)     # cmp eax_3, 0x1000"
   ]
  },
  {
   "cell_type": "markdown",
   "metadata": {},
   "source": [
    "Now we can check to see if there is a solution in which the last comparison succeeds (the values are equal)."
   ]
  },
  {
   "cell_type": "code",
   "execution_count": 10,
   "metadata": {},
   "outputs": [
    {
     "data": {
      "text/html": [
       "<b>sat</b>"
      ],
      "text/plain": [
       "sat"
      ]
     },
     "execution_count": 10,
     "metadata": {},
     "output_type": "execute_result"
    }
   ],
   "source": [
    "s.check()"
   ]
  },
  {
   "cell_type": "markdown",
   "metadata": {},
   "source": [
    "There is!  Let's get the solution.  We really care about `rdi_0`, since that's the only input."
   ]
  },
  {
   "cell_type": "code",
   "execution_count": 11,
   "metadata": {},
   "outputs": [
    {
     "data": {
      "text/html": [
       "[rax_1 = 676,\n",
       " rax_3 = 4096,\n",
       " rax_2 = 2048,\n",
       " rbx_1 = 1372,\n",
       " rdi_0 = 676]"
      ],
      "text/plain": [
       "[rax_1 = 676,\n",
       " rax_3 = 4096,\n",
       " rax_2 = 2048,\n",
       " rbx_1 = 1372,\n",
       " rdi_0 = 676]"
      ]
     },
     "execution_count": 11,
     "metadata": {},
     "output_type": "execute_result"
    }
   ],
   "source": [
    "s.model()"
   ]
  },
  {
   "cell_type": "markdown",
   "metadata": {},
   "source": [
    "Does this value (676) work?"
   ]
  },
  {
   "cell_type": "code",
   "execution_count": 12,
   "metadata": {},
   "outputs": [
    {
     "data": {
      "text/plain": [
       "1372"
      ]
     },
     "execution_count": 12,
     "metadata": {},
     "output_type": "execute_result"
    }
   ],
   "source": [
    "676 * 2 + 20"
   ]
  },
  {
   "cell_type": "code",
   "execution_count": 13,
   "metadata": {},
   "outputs": [
    {
     "data": {
      "text/plain": [
       "2048"
      ]
     },
     "execution_count": 13,
     "metadata": {},
     "output_type": "execute_result"
    }
   ],
   "source": [
    "1372 + 676"
   ]
  },
  {
   "cell_type": "code",
   "execution_count": 14,
   "metadata": {},
   "outputs": [
    {
     "data": {
      "text/plain": [
       "4096"
      ]
     },
     "execution_count": 14,
     "metadata": {},
     "output_type": "execute_result"
    }
   ],
   "source": [
    "2048 << 1"
   ]
  },
  {
   "cell_type": "code",
   "execution_count": 15,
   "metadata": {},
   "outputs": [
    {
     "data": {
      "text/plain": [
       "True"
      ]
     },
     "execution_count": 15,
     "metadata": {},
     "output_type": "execute_result"
    }
   ],
   "source": [
    "4096 == 0x1000"
   ]
  },
  {
   "cell_type": "markdown",
   "metadata": {},
   "source": [
    "It does!  I hope this helps.  Send me questions you have."
   ]
  },
  {
   "cell_type": "code",
   "execution_count": null,
   "metadata": {},
   "outputs": [],
   "source": []
  }
 ],
 "metadata": {
  "kernelspec": {
   "display_name": "Python 3",
   "language": "python",
   "name": "python3"
  },
  "language_info": {
   "codemirror_mode": {
    "name": "ipython",
    "version": 3
   },
   "file_extension": ".py",
   "mimetype": "text/x-python",
   "name": "python",
   "nbconvert_exporter": "python",
   "pygments_lexer": "ipython3",
   "version": "3.7.3"
  }
 },
 "nbformat": 4,
 "nbformat_minor": 5
}
